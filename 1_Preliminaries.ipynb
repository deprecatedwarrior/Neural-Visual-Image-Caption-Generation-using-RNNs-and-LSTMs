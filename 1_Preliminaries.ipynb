{
 "cells": [
  {
   "cell_type": "markdown",
   "metadata": {},
   "source": [
    "## Data Loading and Preprocessing\n"
   ]
  },
  {
   "cell_type": "code",
   "execution_count": 1,
   "metadata": {},
   "outputs": [],
   "source": [
    "import matplotlib.pyplot as plt\n",
    "%matplotlib inline\n",
    "\n",
    "%load_ext autoreload\n",
    "%autoreload 2"
   ]
  },
  {
   "cell_type": "code",
   "execution_count": 2,
   "metadata": {
    "scrolled": false
   },
   "outputs": [
    {
     "name": "stdout",
     "output_type": "stream",
     "text": [
      "Requirement already satisfied: nltk in /opt/conda/lib/python3.6/site-packages (3.2.5)\n",
      "Requirement already satisfied: six in /opt/conda/lib/python3.6/site-packages (from nltk) (1.11.0)\n",
      "[nltk_data] Downloading package punkt to /root/nltk_data...\n",
      "[nltk_data]   Unzipping tokenizers/punkt.zip.\n",
      "loading annotations into memory...\n",
      "Done (t=1.59s)\n",
      "creating index...\n",
      "index created!\n",
      "[0/414113] Tokenizing captions...\n",
      "[100000/414113] Tokenizing captions...\n",
      "[200000/414113] Tokenizing captions...\n",
      "[300000/414113] Tokenizing captions...\n",
      "[400000/414113] Tokenizing captions...\n",
      "loading annotations into memory...\n",
      "Done (t=1.65s)\n",
      "creating index...\n"
     ]
    },
    {
     "name": "stderr",
     "output_type": "stream",
     "text": [
      "  0%|          | 148/414113 [00:00<04:40, 1475.47it/s]"
     ]
    },
    {
     "name": "stdout",
     "output_type": "stream",
     "text": [
      "index created!\n",
      "Obtaining caption lengths...\n"
     ]
    },
    {
     "name": "stderr",
     "output_type": "stream",
     "text": [
      "100%|██████████| 414113/414113 [01:46<00:00, 3889.93it/s]\n"
     ]
    }
   ],
   "source": [
    "import sys\n",
    "sys.path.append('/opt/cocoapi/PythonAPI')\n",
    "from pycocotools.coco import COCO\n",
    "!pip install nltk\n",
    "import nltk\n",
    "nltk.download('punkt')\n",
    "from data_loader import get_loader\n",
    "from torchvision import transforms\n",
    "\n",
    "# Define a transform to pre-process the training images.\n",
    "transform_train = transforms.Compose([ \n",
    "    transforms.Resize(256),                          # smaller edge of image resized to 256\n",
    "    transforms.RandomCrop(224),                      # get 224x224 crop from random location\n",
    "    transforms.RandomHorizontalFlip(),               # horizontally flip image with probability=0.5\n",
    "    transforms.ToTensor(),                           # convert the PIL Image to a tensor\n",
    "    transforms.Normalize((0.485, 0.456, 0.406),      # normalize image for pre-trained model\n",
    "                         (0.229, 0.224, 0.225))])\n",
    "\n",
    "# Set the minimum word count threshold.\n",
    "vocab_threshold = 5\n",
    "\n",
    "# Specify the batch size.\n",
    "batch_size = 128\n",
    "\n",
    "# Obtain the data loader.\n",
    "data_loader = get_loader(transform=transform_train,\n",
    "                         mode='train',\n",
    "                         batch_size=batch_size,\n",
    "                         vocab_threshold=vocab_threshold,\n",
    "                         vocab_from_file=False)"
   ]
  },
  {
   "cell_type": "markdown",
   "metadata": {},
   "source": [
    "#### Image Pre-Processing \n",
    "\n",
    "Image pre-processing is relatively straightforward (from the `__getitem__` method in the `CoCoDataset` class):\n",
    "```python\n",
    "# Convert image to tensor and pre-process using transform\n",
    "image = Image.open(os.path.join(self.img_folder, path)).convert('RGB')\n",
    "image = self.transform(image)\n",
    "```\n",
    "After loading the image in the training folder with name `path`, the image is pre-processed using the same transform (`transform_train`) that was supplied when instantiating the data loader.  \n",
    "\n",
    "#### Caption Pre-Processing \n",
    "\n",
    "The captions also need to be pre-processed and prepped for training. `data_loader.dataset.vocab` is an instance of the `Vocabulary` class from **vocabulary.py**. \n",
    "We use this instance to pre-process the COCO captions (from the `__getitem__` method in the `CoCoDataset` class):\n",
    "\n",
    "```python\n",
    "# Convert caption to tensor of word ids.\n",
    "tokens = nltk.tokenize.word_tokenize(str(caption).lower())   # line 1\n",
    "caption = []                                                 # line 2\n",
    "caption.append(self.vocab(self.vocab.start_word))            # line 3\n",
    "caption.extend([self.vocab(token) for token in tokens])      # line 4\n",
    "caption.append(self.vocab(self.vocab.end_word))              # line 5\n",
    "caption = torch.Tensor(caption).long()                       # line 6\n",
    "```\n",
    "\n",
    "This converts any string-valued caption to a list of integers, before casting it to a PyTorch tensor."
   ]
  },
  {
   "cell_type": "code",
   "execution_count": 3,
   "metadata": {},
   "outputs": [],
   "source": [
    "sample_caption = 'A person doing a trick on a rail while riding a skateboard.'"
   ]
  },
  {
   "cell_type": "code",
   "execution_count": 4,
   "metadata": {},
   "outputs": [
    {
     "name": "stdout",
     "output_type": "stream",
     "text": [
      "['a', 'person', 'doing', 'a', 'trick', 'on', 'a', 'rail', 'while', 'riding', 'a', 'skateboard', '.']\n"
     ]
    }
   ],
   "source": [
    "import nltk\n",
    "\n",
    "sample_tokens = nltk.tokenize.word_tokenize(str(sample_caption).lower())\n",
    "print(sample_tokens)"
   ]
  },
  {
   "cell_type": "code",
   "execution_count": 5,
   "metadata": {},
   "outputs": [
    {
     "name": "stdout",
     "output_type": "stream",
     "text": [
      "Special start word: <start>\n",
      "[0]\n"
     ]
    }
   ],
   "source": [
    "sample_caption = []\n",
    "\n",
    "start_word = data_loader.dataset.vocab.start_word\n",
    "print('Special start word:', start_word)\n",
    "sample_caption.append(data_loader.dataset.vocab(start_word))\n",
    "print(sample_caption)"
   ]
  },
  {
   "cell_type": "code",
   "execution_count": 6,
   "metadata": {},
   "outputs": [
    {
     "name": "stdout",
     "output_type": "stream",
     "text": [
      "[0, 3, 98, 754, 3, 396, 39, 3, 1009, 207, 139, 3, 753, 18]\n"
     ]
    }
   ],
   "source": [
    "sample_caption.extend([data_loader.dataset.vocab(token) for token in sample_tokens])\n",
    "print(sample_caption)"
   ]
  },
  {
   "cell_type": "code",
   "execution_count": 7,
   "metadata": {},
   "outputs": [
    {
     "name": "stdout",
     "output_type": "stream",
     "text": [
      "Special end word: <end>\n",
      "[0, 3, 98, 754, 3, 396, 39, 3, 1009, 207, 139, 3, 753, 18, 1]\n"
     ]
    }
   ],
   "source": [
    "end_word = data_loader.dataset.vocab.end_word\n",
    "print('Special end word:', end_word)\n",
    "\n",
    "sample_caption.append(data_loader.dataset.vocab(end_word))\n",
    "print(sample_caption)"
   ]
  },
  {
   "cell_type": "code",
   "execution_count": 8,
   "metadata": {},
   "outputs": [
    {
     "name": "stdout",
     "output_type": "stream",
     "text": [
      "tensor([    0,     3,    98,   754,     3,   396,    39,     3,  1009,\n",
      "          207,   139,     3,   753,    18,     1])\n"
     ]
    }
   ],
   "source": [
    "import torch\n",
    "\n",
    "sample_caption = torch.Tensor(sample_caption).long()\n",
    "print(sample_caption)"
   ]
  },
  {
   "cell_type": "code",
   "execution_count": 9,
   "metadata": {},
   "outputs": [
    {
     "data": {
      "text/plain": [
       "{'<start>': 0,\n",
       " '<end>': 1,\n",
       " '<unk>': 2,\n",
       " 'a': 3,\n",
       " 'very': 4,\n",
       " 'clean': 5,\n",
       " 'and': 6,\n",
       " 'well': 7,\n",
       " 'decorated': 8,\n",
       " 'empty': 9}"
      ]
     },
     "execution_count": 9,
     "metadata": {},
     "output_type": "execute_result"
    }
   ],
   "source": [
    "# Preview the word2idx dictionary.\n",
    "dict(list(data_loader.dataset.vocab.word2idx.items())[:10])"
   ]
  },
  {
   "cell_type": "markdown",
   "metadata": {},
   "source": [
    "We also print the total number of keys."
   ]
  },
  {
   "cell_type": "code",
   "execution_count": 10,
   "metadata": {},
   "outputs": [
    {
     "name": "stdout",
     "output_type": "stream",
     "text": [
      "Total number of tokens in vocabulary: 8855\n"
     ]
    }
   ],
   "source": [
    "# Print the total number of keys in the word2idx dictionary.\n",
    "print('Total number of tokens in vocabulary:', len(data_loader.dataset.vocab))"
   ]
  },
  {
   "cell_type": "markdown",
   "metadata": {},
   "source": [
    "In **vocabulary.py**, the `word2idx` dictionary is created by looping over the captions in the training dataset.  If a token appears no less than `vocab_threshold` times in the training set, then it is added as a key to the dictionary and assigned a corresponding unique integer.  We can later amend the `vocab_threshold` argument when instantiating your data loader.  Note that in general, **smaller** values for `vocab_threshold` yield a **larger** number of tokens in the vocabulary.  "
   ]
  },
  {
   "cell_type": "code",
   "execution_count": 11,
   "metadata": {},
   "outputs": [
    {
     "name": "stdout",
     "output_type": "stream",
     "text": [
      "loading annotations into memory...\n",
      "Done (t=0.89s)\n",
      "creating index...\n",
      "index created!\n",
      "[0/414113] Tokenizing captions...\n",
      "[100000/414113] Tokenizing captions...\n",
      "[200000/414113] Tokenizing captions...\n",
      "[300000/414113] Tokenizing captions...\n",
      "[400000/414113] Tokenizing captions...\n",
      "loading annotations into memory...\n"
     ]
    },
    {
     "name": "stderr",
     "output_type": "stream",
     "text": [
      "  0%|          | 873/414113 [00:00<01:34, 4357.62it/s]"
     ]
    },
    {
     "name": "stdout",
     "output_type": "stream",
     "text": [
      "Done (t=0.90s)\n",
      "creating index...\n",
      "index created!\n",
      "Obtaining caption lengths...\n"
     ]
    },
    {
     "name": "stderr",
     "output_type": "stream",
     "text": [
      "100%|██████████| 414113/414113 [01:34<00:00, 4368.29it/s]\n"
     ]
    }
   ],
   "source": [
    "# Modify the minimum word count threshold.\n",
    "vocab_threshold = 5\n",
    "\n",
    "# Obtain the data loader.\n",
    "data_loader = get_loader(transform=transform_train,\n",
    "                         mode='train',\n",
    "                         batch_size=batch_size,\n",
    "                         vocab_threshold=vocab_threshold,\n",
    "                         vocab_from_file=False)"
   ]
  },
  {
   "cell_type": "code",
   "execution_count": 12,
   "metadata": {},
   "outputs": [
    {
     "name": "stdout",
     "output_type": "stream",
     "text": [
      "Total number of tokens in vocabulary: 8855\n"
     ]
    }
   ],
   "source": [
    "# Print the total number of keys in the word2idx dictionary.\n",
    "print('Total number of tokens in vocabulary:', len(data_loader.dataset.vocab))"
   ]
  },
  {
   "cell_type": "code",
   "execution_count": 13,
   "metadata": {},
   "outputs": [
    {
     "name": "stdout",
     "output_type": "stream",
     "text": [
      "Special unknown word: <unk>\n",
      "All unknown words are mapped to this integer: 2\n"
     ]
    }
   ],
   "source": [
    "unk_word = data_loader.dataset.vocab.unk_word\n",
    "print('Special unknown word:', unk_word)\n",
    "\n",
    "print('All unknown words are mapped to this integer:', data_loader.dataset.vocab(unk_word))"
   ]
  },
  {
   "cell_type": "code",
   "execution_count": 14,
   "metadata": {},
   "outputs": [
    {
     "name": "stdout",
     "output_type": "stream",
     "text": [
      "2\n",
      "2\n"
     ]
    }
   ],
   "source": [
    "print(data_loader.dataset.vocab('jfkafejw'))\n",
    "print(data_loader.dataset.vocab('ieowoqjf'))"
   ]
  },
  {
   "cell_type": "code",
   "execution_count": 15,
   "metadata": {},
   "outputs": [
    {
     "name": "stdout",
     "output_type": "stream",
     "text": [
      "Vocabulary successfully loaded from vocab.pkl file!\n",
      "loading annotations into memory...\n"
     ]
    },
    {
     "name": "stderr",
     "output_type": "stream",
     "text": [
      "100%|██████████| 414113/414113 [01:35<00:00, 4347.18it/s]\n"
     ]
    },
    {
     "name": "stdout",
     "output_type": "stream",
     "text": [
      "Done (t=0.90s)\n",
      "creating index...\n",
      "index created!\n",
      "Obtaining caption lengths...\n"
     ]
    }
   ],
   "source": [
    "# Obtain the data loader (from file). Note that it runs much faster than before!\n",
    "data_loader = get_loader(transform=transform_train,\n",
    "                         mode='train',\n",
    "                         batch_size=batch_size,\n",
    "                         vocab_from_file=True)"
   ]
  },
  {
   "cell_type": "markdown",
   "metadata": {},
   "source": [
    "<a id='step2'></a>\n",
    "## Batching the Data Loader\n",
    "\n",
    "The captions in the dataset vary greatly in length. To generate batches of training data, we begin by first sampling a caption length (where the probability that any length is drawn is proportional to the number of captions with that length in the dataset).  Then, we retrieve a batch of size `batch_size` of image-caption pairs, where all captions have the sampled length.  This approach for assembling batches matches the procedure in [this paper](https://arxiv.org/pdf/1502.03044.pdf) and has been shown to be computationally efficient without degrading performance.\n",
    "\n",
    "The `get_train_indices` method in the `CoCoDataset` class first samples a caption length, and then samples `batch_size` indices corresponding to training data points with captions of that length.  These indices are stored below in `indices`. These indices are supplied to the data loader, which then is used to retrieve the corresponding data points.  The pre-processed images and captions in the batch are stored in `images` and `captions`."
   ]
  },
  {
   "cell_type": "code",
   "execution_count": 16,
   "metadata": {},
   "outputs": [
    {
     "name": "stdout",
     "output_type": "stream",
     "text": [
      "value: 10 --- count: 86334\n",
      "value: 11 --- count: 79948\n",
      "value:  9 --- count: 71934\n",
      "value: 12 --- count: 57637\n",
      "value: 13 --- count: 37645\n",
      "value: 14 --- count: 22335\n",
      "value:  8 --- count: 20771\n",
      "value: 15 --- count: 12841\n",
      "value: 16 --- count:  7729\n",
      "value: 17 --- count:  4842\n",
      "value: 18 --- count:  3104\n",
      "value: 19 --- count:  2014\n",
      "value:  7 --- count:  1597\n",
      "value: 20 --- count:  1451\n",
      "value: 21 --- count:   999\n",
      "value: 22 --- count:   683\n",
      "value: 23 --- count:   534\n",
      "value: 24 --- count:   383\n",
      "value: 25 --- count:   277\n",
      "value: 26 --- count:   215\n",
      "value: 27 --- count:   159\n",
      "value: 28 --- count:   115\n",
      "value: 29 --- count:    86\n",
      "value: 30 --- count:    58\n",
      "value: 31 --- count:    49\n",
      "value: 32 --- count:    44\n",
      "value: 34 --- count:    39\n",
      "value: 37 --- count:    32\n",
      "value: 33 --- count:    31\n",
      "value: 35 --- count:    31\n",
      "value: 36 --- count:    26\n",
      "value: 38 --- count:    18\n",
      "value: 39 --- count:    18\n",
      "value: 43 --- count:    16\n",
      "value: 44 --- count:    16\n",
      "value: 48 --- count:    12\n",
      "value: 45 --- count:    11\n",
      "value: 42 --- count:    10\n",
      "value: 40 --- count:     9\n",
      "value: 49 --- count:     9\n",
      "value: 46 --- count:     9\n",
      "value: 47 --- count:     7\n",
      "value: 50 --- count:     6\n",
      "value: 51 --- count:     6\n",
      "value: 41 --- count:     6\n",
      "value: 52 --- count:     5\n",
      "value: 54 --- count:     3\n",
      "value: 56 --- count:     2\n",
      "value:  6 --- count:     2\n",
      "value: 53 --- count:     2\n",
      "value: 55 --- count:     2\n",
      "value: 57 --- count:     1\n"
     ]
    }
   ],
   "source": [
    "from collections import Counter\n",
    "\n",
    "# Tally the total number of training captions with each length.\n",
    "counter = Counter(data_loader.dataset.caption_lengths)\n",
    "lengths = sorted(counter.items(), key=lambda pair: pair[1], reverse=True)\n",
    "for value, count in lengths:\n",
    "    print('value: %2d --- count: %5d' % (value, count))"
   ]
  },
  {
   "cell_type": "code",
   "execution_count": 17,
   "metadata": {
    "scrolled": false
   },
   "outputs": [
    {
     "name": "stdout",
     "output_type": "stream",
     "text": [
      "sampled indices: [112058, 207474, 161447, 52324, 119080, 3469, 27987, 169320, 230171, 360871, 34895, 242452, 180117, 129400, 181150, 49797, 1226, 167697, 97712, 302343, 285816, 168781, 284458, 309508, 152632, 11654, 163143, 201016, 223016, 78532, 105125, 219055, 324517, 259065, 39990, 163140, 357988, 361326, 312277, 335735, 339414, 358, 251274, 52410, 316605, 68467, 3922, 247211, 99722, 310580, 8652, 227641, 244358, 110904, 254014, 83147, 406112, 292640, 104506, 217035, 28233, 34679, 234688, 300239, 150533, 3924, 112298, 283436, 140856, 81137, 22467, 256375, 284186, 135361, 362422, 108190, 310599, 285154, 247561, 404856, 15883, 291279, 345320, 78250, 34202, 353470, 346788, 400657, 184940, 254167, 275109, 314972, 315408, 248667, 116485, 56495, 188438, 149128, 174078, 30030, 279937, 241850, 75633, 74612, 87465, 376422, 195645, 24985, 42636, 189237, 143896, 30854, 50948, 90278, 4931, 8389, 356168, 76423, 24818, 204279, 170458, 209993, 65482, 23207, 378848, 273454, 377995, 388064]\n",
      "images.shape: torch.Size([128, 3, 224, 224])\n",
      "captions.shape: torch.Size([128, 12])\n",
      "images: tensor([[[[ 0.9988,  0.9817,  0.4166,  ...,  0.5878,  0.7419, -0.1314],\n",
      "          [ 1.5639,  0.8447,  0.6049,  ...,  0.5364,  1.1358,  0.1597],\n",
      "          [ 0.7591,  0.4508,  0.8104,  ...,  0.6221,  1.0159,  0.8618],\n",
      "          ...,\n",
      "          [-0.1486, -0.1314, -0.2684,  ..., -0.9363, -0.8507, -0.7993],\n",
      "          [ 0.1768,  0.1597,  0.0227,  ..., -1.0390, -0.8678, -0.7822],\n",
      "          [ 0.1597,  0.3309,  0.4337,  ..., -1.0219, -0.8678, -0.8507]],\n",
      "\n",
      "         [[ 1.2906,  1.2906,  1.2906,  ...,  0.3803,  0.3978, -0.1800],\n",
      "          [ 1.5532,  1.5357,  1.1856,  ...,  0.3627,  0.8004, -0.1099],\n",
      "          [ 1.2556,  1.2381,  1.1155,  ...,  0.4153,  0.6429,  0.4503],\n",
      "          ...,\n",
      "          [-0.7227, -0.9678, -0.8277,  ..., -0.9678, -0.9153, -0.8978],\n",
      "          [-0.3200, -1.0203, -0.9503,  ..., -1.0378, -0.9153, -0.8803],\n",
      "          [-0.8102, -0.9678, -0.8978,  ..., -1.0378, -0.9678, -0.9328]],\n",
      "\n",
      "         [[ 1.7685,  1.7337,  2.0300,  ...,  0.4091,  0.5485,  0.1651],\n",
      "          [ 1.7163,  2.1171,  1.7511,  ...,  0.4962,  0.7228,  0.2522],\n",
      "          [ 1.8731,  1.8557,  1.5594,  ...,  0.5485,  0.5834,  0.5485],\n",
      "          ...,\n",
      "          [-0.7238, -0.7413, -0.6541,  ..., -0.7761, -0.7238, -0.7064],\n",
      "          [-0.3753, -0.7936, -0.7761,  ..., -0.8284, -0.7413, -0.6890],\n",
      "          [-0.6193, -0.7413, -0.6890,  ..., -0.8110, -0.7761, -0.7413]]],\n",
      "\n",
      "\n",
      "        [[[ 1.4440,  1.4440,  1.4612,  ...,  1.6153,  1.6153,  1.6153],\n",
      "          [ 1.4440,  1.4440,  1.4440,  ...,  1.6153,  1.5982,  1.6153],\n",
      "          [ 1.4269,  1.4440,  1.4269,  ...,  1.6153,  1.5982,  1.5982],\n",
      "          ...,\n",
      "          [ 0.8789,  0.9132,  0.9132,  ...,  1.1700,  1.1529,  1.1015],\n",
      "          [ 0.8618,  0.8618,  0.9303,  ...,  1.1015,  1.0673,  1.0502],\n",
      "          [ 0.8276,  0.8618,  0.8961,  ...,  1.0502,  1.0159,  1.0331]],\n",
      "\n",
      "         [[ 1.3256,  1.3256,  1.3431,  ...,  1.7108,  1.7108,  1.7108],\n",
      "          [ 1.3256,  1.3256,  1.3256,  ...,  1.6933,  1.6933,  1.7108],\n",
      "          [ 1.3256,  1.3256,  1.3256,  ...,  1.7108,  1.6933,  1.6933],\n",
      "          ...,\n",
      "          [ 0.6429,  0.7654,  0.7829,  ...,  1.3081,  1.2906,  1.2381],\n",
      "          [ 0.6954,  0.7304,  0.8004,  ...,  1.2381,  1.2031,  1.1856],\n",
      "          [ 0.7304,  0.6779,  0.7304,  ...,  1.1506,  1.1331,  1.1681]],\n",
      "\n",
      "         [[ 1.2631,  1.2805,  1.2980,  ...,  1.8731,  1.8731,  1.8731],\n",
      "          [ 1.2631,  1.2631,  1.2805,  ...,  1.8557,  1.8557,  1.8731],\n",
      "          [ 1.2457,  1.2631,  1.2805,  ...,  1.8905,  1.8731,  1.8731],\n",
      "          ...,\n",
      "          [ 0.5136,  0.7402,  0.8099,  ...,  1.6117,  1.5942,  1.5420],\n",
      "          [ 0.6182,  0.6879,  0.8448,  ...,  1.5420,  1.5071,  1.4897],\n",
      "          [ 0.6531,  0.6356,  0.7228,  ...,  1.4548,  1.4548,  1.4897]]],\n",
      "\n",
      "\n",
      "        [[[ 1.7694,  1.7352,  1.7694,  ...,  2.1119,  2.1119,  2.1290],\n",
      "          [ 1.7180,  1.7180,  1.7352,  ...,  2.1119,  2.1290,  2.1290],\n",
      "          [ 1.7180,  1.7009,  1.7180,  ...,  2.1119,  2.1119,  2.1290],\n",
      "          ...,\n",
      "          [ 0.0741,  0.0227,  0.0398,  ...,  2.1290,  2.1290,  2.1290],\n",
      "          [ 0.0912,  0.0227,  0.0569,  ...,  2.1290,  2.1119,  2.1119],\n",
      "          [ 0.0398,  0.0398,  0.0569,  ...,  2.1633,  2.1290,  2.1290]],\n",
      "\n",
      "         [[ 2.0434,  2.0259,  2.0609,  ...,  2.3936,  2.3936,  2.3936],\n",
      "          [ 2.0084,  2.0259,  2.0259,  ...,  2.3936,  2.4111,  2.3936],\n",
      "          [ 1.9734,  1.9909,  1.9734,  ...,  2.3936,  2.3936,  2.4111],\n",
      "          ...,\n",
      "          [ 0.0476,  0.0826,  0.0651,  ...,  2.3936,  2.3936,  2.3936],\n",
      "          [ 0.0826,  0.0651,  0.0826,  ...,  2.3761,  2.3761,  2.3761],\n",
      "          [ 0.0826,  0.0826,  0.0826,  ...,  2.3936,  2.3936,  2.3936]],\n",
      "\n",
      "         [[ 2.3611,  2.3437,  2.3786,  ...,  2.4308,  2.4657,  2.4831],\n",
      "          [ 2.3088,  2.3263,  2.3437,  ...,  2.4308,  2.4483,  2.4657],\n",
      "          [ 2.2914,  2.3088,  2.2914,  ...,  2.4308,  2.4308,  2.4483],\n",
      "          ...,\n",
      "          [ 0.2696,  0.3045,  0.3219,  ...,  2.5006,  2.5006,  2.4831],\n",
      "          [ 0.3219,  0.3219,  0.3393,  ...,  2.4831,  2.4831,  2.4831],\n",
      "          [ 0.3219,  0.3393,  0.3393,  ...,  2.4831,  2.4657,  2.4831]]],\n",
      "\n",
      "\n",
      "        ...,\n",
      "\n",
      "\n",
      "        [[[ 0.6563,  0.6563,  0.6734,  ...,  0.4508,  0.4508,  0.4679],\n",
      "          [ 0.6392,  0.6734,  0.6563,  ...,  0.4851,  0.4679,  0.4679],\n",
      "          [ 0.6734,  0.6563,  0.6563,  ...,  0.5022,  0.4679,  0.4679],\n",
      "          ...,\n",
      "          [ 0.1426,  0.6906,  1.5468,  ..., -1.5699, -1.6555, -1.7583],\n",
      "          [ 0.1254,  0.0741,  0.4508,  ..., -1.6384, -1.7240, -1.7069],\n",
      "          [ 0.9132,  0.9988,  0.3823,  ..., -1.5014, -1.6384, -1.6727]],\n",
      "\n",
      "         [[ 1.0805,  1.0630,  1.0805,  ...,  0.8354,  0.8354,  0.8529],\n",
      "          [ 1.0630,  1.0805,  1.0630,  ...,  0.8354,  0.8354,  0.8529],\n",
      "          [ 1.0980,  1.0805,  1.0805,  ...,  0.8354,  0.8354,  0.8529],\n",
      "          ...,\n",
      "          [ 0.2227,  0.8529,  1.6408,  ..., -1.5280, -1.5980, -1.6856],\n",
      "          [-0.0224,  0.0301,  0.4678,  ..., -1.6155, -1.6681, -1.6155],\n",
      "          [ 0.6429,  0.6429,  0.1352,  ..., -1.5105, -1.5980, -1.5805]],\n",
      "\n",
      "         [[ 1.7511,  1.7860,  1.7860,  ...,  1.5245,  1.5245,  1.5420],\n",
      "          [ 1.7337,  1.7685,  1.7511,  ...,  1.5420,  1.5245,  1.5420],\n",
      "          [ 1.7685,  1.7511,  1.7511,  ...,  1.5420,  1.5420,  1.5420],\n",
      "          ...,\n",
      "          [ 0.9145,  1.3328,  1.8905,  ..., -1.3164, -1.3861, -1.4559],\n",
      "          [ 0.3916,  0.5136,  0.8622,  ..., -1.4210, -1.4733, -1.4036],\n",
      "          [ 0.6705,  0.5136,  0.1999,  ..., -1.3339, -1.4036, -1.3861]]],\n",
      "\n",
      "\n",
      "        [[[-1.4672, -1.4672, -1.4843,  ..., -0.0629, -0.0972, -0.0801],\n",
      "          [-1.4672, -1.4672, -1.4500,  ..., -0.0458, -0.0458, -0.0458],\n",
      "          [-1.4500, -1.4500, -1.4500,  ..., -0.0287, -0.0287, -0.0629],\n",
      "          ...,\n",
      "          [-0.7993, -0.7479, -0.6794,  ...,  0.1083,  0.2282,  0.1597],\n",
      "          [-0.4911, -0.4397, -0.5767,  ...,  0.3138,  0.3481,  0.1939],\n",
      "          [-0.5596, -0.5767, -0.5424,  ...,  0.0912,  0.1083,  0.1426]],\n",
      "\n",
      "         [[-1.2304, -1.2129, -1.2129,  ...,  0.1352,  0.1001,  0.1001],\n",
      "          [-1.2129, -1.1954, -1.2129,  ...,  0.1527,  0.1352,  0.1352],\n",
      "          [-1.2304, -1.1954, -1.1954,  ...,  0.1702,  0.1527,  0.1176],\n",
      "          ...,\n",
      "          [-0.1625, -0.0574, -0.0399,  ...,  0.7304,  0.8529,  0.7304],\n",
      "          [ 0.1176,  0.1527,  0.1176,  ...,  0.8529,  0.9580,  0.8880],\n",
      "          [ 0.0476,  0.1352,  0.1352,  ...,  0.7479,  0.7304,  0.7479]],\n",
      "\n",
      "         [[-0.8981, -0.8981, -0.8981,  ...,  0.3393,  0.3393,  0.3393],\n",
      "          [-0.8807, -0.8633, -0.8807,  ...,  0.3916,  0.3742,  0.3393],\n",
      "          [-0.8807, -0.8633, -0.8458,  ...,  0.4091,  0.3916,  0.3045],\n",
      "          ...,\n",
      "          [-1.1770, -1.2293, -1.1596,  ..., -0.3230, -0.2707, -0.3055],\n",
      "          [-0.9330, -0.9156, -0.9330,  ..., -0.1138,  0.0779,  0.0082],\n",
      "          [-0.7936, -0.7936, -0.9678,  ..., -0.1661, -0.0790, -0.0441]]],\n",
      "\n",
      "\n",
      "        [[[-0.7137, -0.0287,  0.0398,  ..., -0.3541, -0.1314, -0.0801],\n",
      "          [ 0.5878,  0.1254,  0.0741,  ...,  0.0912,  0.4851,  1.1872],\n",
      "          [ 0.4508,  0.0569, -0.0116,  ...,  0.3823,  0.7591,  0.9817],\n",
      "          ...,\n",
      "          [-0.0629, -0.0972, -0.1143,  ...,  0.0227,  0.0398,  0.0056],\n",
      "          [-0.0801, -0.0629, -0.0972,  ..., -0.0116,  0.0056, -0.0116],\n",
      "          [-0.0801, -0.0629, -0.0972,  ..., -0.0629, -0.0287, -0.0629]],\n",
      "\n",
      "         [[-1.0553, -0.4776, -0.4426,  ..., -0.6702, -0.6527, -0.7752],\n",
      "          [ 0.1001, -0.4426, -0.4251,  ..., -0.4076, -0.3025,  0.2402],\n",
      "          [-0.0749, -0.4426, -0.4426,  ..., -0.1975, -0.0749,  0.0826],\n",
      "          ...,\n",
      "          [-0.5476, -0.5826, -0.6001,  ..., -0.3725, -0.3550, -0.3901],\n",
      "          [-0.5651, -0.5476, -0.5826,  ..., -0.3901, -0.3725, -0.3901],\n",
      "          [-0.5651, -0.5476, -0.5826,  ..., -0.4251, -0.3901, -0.4251]],\n",
      "\n",
      "         [[-1.1073, -0.6541, -0.7064,  ..., -0.8633, -0.9853, -1.1421],\n",
      "          [-0.2881, -0.8110, -0.7413,  ..., -0.7587, -0.8807, -0.5670],\n",
      "          [-0.7238, -0.8458, -0.7238,  ..., -0.6367, -0.7413, -0.6367],\n",
      "          ...,\n",
      "          [-0.8284, -0.8807, -0.8981,  ..., -0.6018, -0.5844, -0.6193],\n",
      "          [-0.8284, -0.8458, -0.8633,  ..., -0.6018, -0.5670, -0.6018],\n",
      "          [-0.8458, -0.8458, -0.8633,  ..., -0.6193, -0.5844, -0.6193]]]])\n",
      "captions: tensor([[    0,    51,    52,  ...,     6,  1363,     1],\n",
      "        [    0,    91,   324,  ...,  4012,    18,     1],\n",
      "        [    0,     3,    26,  ...,     3,  5965,     1],\n",
      "        ...,\n",
      "        [    0,   366,   291,  ...,  4401,    18,     1],\n",
      "        [    0,  2323,  4217,  ...,   147,    18,     1],\n",
      "        [    0,     3,   194,  ...,    13,    46,     1]])\n"
     ]
    }
   ],
   "source": [
    "import numpy as np\n",
    "import torch.utils.data as data\n",
    "\n",
    "indices = data_loader.dataset.get_train_indices()\n",
    "print('sampled indices:', indices)\n",
    "\n",
    "new_sampler = data.sampler.SubsetRandomSampler(indices=indices)\n",
    "data_loader.batch_sampler.sampler = new_sampler\n",
    "images, captions = next(iter(data_loader))\n",
    "    \n",
    "print('images.shape:', images.shape)\n",
    "print('captions.shape:', captions.shape)\n",
    "\n",
    "print('images:', images)\n",
    "print('captions:', captions)"
   ]
  },
  {
   "cell_type": "markdown",
   "metadata": {},
   "source": [
    "<a id='step3'></a>\n",
    "## Instantiating CNN Encoder\n",
    "\n",
    "import `EncoderCNN` and `DecoderRNN` from **model.py**. "
   ]
  },
  {
   "cell_type": "code",
   "execution_count": 18,
   "metadata": {},
   "outputs": [
    {
     "name": "stdout",
     "output_type": "stream",
     "text": [
      "The autoreload extension is already loaded. To reload it, use:\n",
      "  %reload_ext autoreload\n"
     ]
    }
   ],
   "source": [
    "# for any changes in model.py, and re-load it automatically.\n",
    "% load_ext autoreload\n",
    "% autoreload 2\n",
    "\n",
    "# Import EncoderCNN and DecoderRNN. \n",
    "from model import EncoderCNN, DecoderRNN"
   ]
  },
  {
   "cell_type": "code",
   "execution_count": 19,
   "metadata": {},
   "outputs": [],
   "source": [
    "device = torch.device(\"cuda\" if torch.cuda.is_available() else \"cpu\")"
   ]
  },
  {
   "cell_type": "code",
   "execution_count": 20,
   "metadata": {},
   "outputs": [
    {
     "name": "stdout",
     "output_type": "stream",
     "text": [
      "type(features): <class 'torch.Tensor'>\n",
      "features.shape: torch.Size([128, 256])\n"
     ]
    }
   ],
   "source": [
    "# Specify the dimensionality of the image embedding.\n",
    "embed_size = 256\n",
    "encoder = EncoderCNN(embed_size)\n",
    "encoder.to(device)\n",
    "images = images.to(device)\n",
    "features = encoder(images)\n",
    "\n",
    "print('type(features):', type(features))\n",
    "print('features.shape:', features.shape)\n",
    "\n",
    "assert type(features)==torch.Tensor, \"Encoder output needs to be a PyTorch Tensor.\" \n",
    "assert (features.shape[0]==batch_size) & (features.shape[1]==embed_size), \"The shape of the encoder output is incorrect.\""
   ]
  },
  {
   "cell_type": "markdown",
   "metadata": {},
   "source": [
    "<a id='step4'></a>\n",
    "## Instantiating the RNN Decoder\n"
   ]
  },
  {
   "cell_type": "code",
   "execution_count": 21,
   "metadata": {},
   "outputs": [
    {
     "name": "stdout",
     "output_type": "stream",
     "text": [
      "torch.Size([128, 12, 512])\n",
      "type(outputs): <class 'torch.Tensor'>\n",
      "outputs.shape: torch.Size([128, 12, 8855])\n"
     ]
    }
   ],
   "source": [
    "# Specify the number of features in the hidden state of the RNN decoder.\n",
    "hidden_size = 512\n",
    "vocab_size = len(data_loader.dataset.vocab)\n",
    "decoder = DecoderRNN(embed_size, hidden_size, vocab_size, batch_size)\n",
    "decoder.to(device)\n",
    "captions = captions.to(device)\n",
    "outputs = decoder(features, captions)\n",
    "\n",
    "print('type(outputs):', type(outputs))\n",
    "print('outputs.shape:', outputs.shape)\n",
    "\n",
    "assert type(outputs)==torch.Tensor, \"Decoder output needs to be a PyTorch Tensor.\"\n",
    "assert (outputs.shape[0]==batch_size) & (outputs.shape[1]==captions.shape[1]) & (outputs.shape[2]==vocab_size), \"The shape of the decoder output is incorrect.\""
   ]
  }
 ],
 "metadata": {
  "anaconda-cloud": {},
  "kernelspec": {
   "display_name": "Python 3",
   "language": "python",
   "name": "python3"
  },
  "language_info": {
   "codemirror_mode": {
    "name": "ipython",
    "version": 3
   },
   "file_extension": ".py",
   "mimetype": "text/x-python",
   "name": "python",
   "nbconvert_exporter": "python",
   "pygments_lexer": "ipython3",
   "version": "3.7.4"
  }
 },
 "nbformat": 4,
 "nbformat_minor": 2
}
